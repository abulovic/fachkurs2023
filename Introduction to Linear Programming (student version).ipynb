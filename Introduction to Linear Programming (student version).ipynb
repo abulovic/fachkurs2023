{
 "cells": [
  {
   "cell_type": "code",
   "execution_count": 1,
   "id": "33d7fd0d",
   "metadata": {},
   "outputs": [
    {
     "name": "stderr",
     "output_type": "stream",
     "text": [
      "\n",
      "Bad key axes.color_cycle in file /home/ana/.config/matplotlib/matplotlibrc, line 240 ('axes.color_cycle    : 348ABD, A60628, 7A68A6, 467821,D55E00,  CC79A7, 56B4E9, 009E73, F0E442, 0072B2  # color cycle for plot lines')\n",
      "You probably need to get an updated matplotlibrc file from\n",
      "https://github.com/matplotlib/matplotlib/blob/v3.7.1/matplotlibrc.template\n",
      "or from the matplotlib source distribution\n"
     ]
    },
    {
     "ename": "ModuleNotFoundError",
     "evalue": "No module named 'ipympl'",
     "output_type": "error",
     "traceback": [
      "\u001b[0;31m---------------------------------------------------------------------------\u001b[0m",
      "\u001b[0;31mModuleNotFoundError\u001b[0m                       Traceback (most recent call last)",
      "Cell \u001b[0;32mIn[1], line 6\u001b[0m\n\u001b[1;32m      4\u001b[0m \u001b[38;5;28;01mimport\u001b[39;00m \u001b[38;5;21;01mipywidgets\u001b[39;00m \u001b[38;5;28;01mas\u001b[39;00m \u001b[38;5;21;01mwidgets\u001b[39;00m\n\u001b[1;32m      5\u001b[0m \u001b[38;5;28;01mimport\u001b[39;00m \u001b[38;5;21;01mmatplotlib\u001b[39;00m\u001b[38;5;21;01m.\u001b[39;00m\u001b[38;5;21;01mpyplot\u001b[39;00m \u001b[38;5;28;01mas\u001b[39;00m \u001b[38;5;21;01mplt\u001b[39;00m\n\u001b[0;32m----> 6\u001b[0m \u001b[43mget_ipython\u001b[49m\u001b[43m(\u001b[49m\u001b[43m)\u001b[49m\u001b[38;5;241;43m.\u001b[39;49m\u001b[43mrun_line_magic\u001b[49m\u001b[43m(\u001b[49m\u001b[38;5;124;43m'\u001b[39;49m\u001b[38;5;124;43mmatplotlib\u001b[39;49m\u001b[38;5;124;43m'\u001b[39;49m\u001b[43m,\u001b[49m\u001b[43m \u001b[49m\u001b[38;5;124;43m'\u001b[39;49m\u001b[38;5;124;43mwidget\u001b[39;49m\u001b[38;5;124;43m'\u001b[39;49m\u001b[43m)\u001b[49m\n",
      "File \u001b[0;32m/usr/lib/python3/dist-packages/IPython/core/interactiveshell.py:2417\u001b[0m, in \u001b[0;36mInteractiveShell.run_line_magic\u001b[0;34m(self, magic_name, line, _stack_depth)\u001b[0m\n\u001b[1;32m   2415\u001b[0m     kwargs[\u001b[38;5;124m'\u001b[39m\u001b[38;5;124mlocal_ns\u001b[39m\u001b[38;5;124m'\u001b[39m] \u001b[38;5;241m=\u001b[39m \u001b[38;5;28mself\u001b[39m\u001b[38;5;241m.\u001b[39mget_local_scope(stack_depth)\n\u001b[1;32m   2416\u001b[0m \u001b[38;5;28;01mwith\u001b[39;00m \u001b[38;5;28mself\u001b[39m\u001b[38;5;241m.\u001b[39mbuiltin_trap:\n\u001b[0;32m-> 2417\u001b[0m     result \u001b[38;5;241m=\u001b[39m \u001b[43mfn\u001b[49m\u001b[43m(\u001b[49m\u001b[38;5;241;43m*\u001b[39;49m\u001b[43margs\u001b[49m\u001b[43m,\u001b[49m\u001b[43m \u001b[49m\u001b[38;5;241;43m*\u001b[39;49m\u001b[38;5;241;43m*\u001b[39;49m\u001b[43mkwargs\u001b[49m\u001b[43m)\u001b[49m\n\u001b[1;32m   2419\u001b[0m \u001b[38;5;66;03m# The code below prevents the output from being displayed\u001b[39;00m\n\u001b[1;32m   2420\u001b[0m \u001b[38;5;66;03m# when using magics with decodator @output_can_be_silenced\u001b[39;00m\n\u001b[1;32m   2421\u001b[0m \u001b[38;5;66;03m# when the last Python token in the expression is a ';'.\u001b[39;00m\n\u001b[1;32m   2422\u001b[0m \u001b[38;5;28;01mif\u001b[39;00m \u001b[38;5;28mgetattr\u001b[39m(fn, magic\u001b[38;5;241m.\u001b[39mMAGIC_OUTPUT_CAN_BE_SILENCED, \u001b[38;5;28;01mFalse\u001b[39;00m):\n",
      "File \u001b[0;32m/usr/lib/python3/dist-packages/IPython/core/magics/pylab.py:99\u001b[0m, in \u001b[0;36mPylabMagics.matplotlib\u001b[0;34m(self, line)\u001b[0m\n\u001b[1;32m     97\u001b[0m     \u001b[38;5;28mprint\u001b[39m(\u001b[38;5;124m\"\u001b[39m\u001b[38;5;124mAvailable matplotlib backends: \u001b[39m\u001b[38;5;132;01m%s\u001b[39;00m\u001b[38;5;124m\"\u001b[39m \u001b[38;5;241m%\u001b[39m backends_list)\n\u001b[1;32m     98\u001b[0m \u001b[38;5;28;01melse\u001b[39;00m:\n\u001b[0;32m---> 99\u001b[0m     gui, backend \u001b[38;5;241m=\u001b[39m \u001b[38;5;28;43mself\u001b[39;49m\u001b[38;5;241;43m.\u001b[39;49m\u001b[43mshell\u001b[49m\u001b[38;5;241;43m.\u001b[39;49m\u001b[43menable_matplotlib\u001b[49m\u001b[43m(\u001b[49m\u001b[43margs\u001b[49m\u001b[38;5;241;43m.\u001b[39;49m\u001b[43mgui\u001b[49m\u001b[38;5;241;43m.\u001b[39;49m\u001b[43mlower\u001b[49m\u001b[43m(\u001b[49m\u001b[43m)\u001b[49m\u001b[43m \u001b[49m\u001b[38;5;28;43;01mif\u001b[39;49;00m\u001b[43m \u001b[49m\u001b[38;5;28;43misinstance\u001b[39;49m\u001b[43m(\u001b[49m\u001b[43margs\u001b[49m\u001b[38;5;241;43m.\u001b[39;49m\u001b[43mgui\u001b[49m\u001b[43m,\u001b[49m\u001b[43m \u001b[49m\u001b[38;5;28;43mstr\u001b[39;49m\u001b[43m)\u001b[49m\u001b[43m \u001b[49m\u001b[38;5;28;43;01melse\u001b[39;49;00m\u001b[43m \u001b[49m\u001b[43margs\u001b[49m\u001b[38;5;241;43m.\u001b[39;49m\u001b[43mgui\u001b[49m\u001b[43m)\u001b[49m\n\u001b[1;32m    100\u001b[0m     \u001b[38;5;28mself\u001b[39m\u001b[38;5;241m.\u001b[39m_show_matplotlib_backend(args\u001b[38;5;241m.\u001b[39mgui, backend)\n",
      "File \u001b[0;32m/usr/lib/python3/dist-packages/IPython/core/interactiveshell.py:3603\u001b[0m, in \u001b[0;36mInteractiveShell.enable_matplotlib\u001b[0;34m(self, gui)\u001b[0m\n\u001b[1;32m   3599\u001b[0m         \u001b[38;5;28mprint\u001b[39m(\u001b[38;5;124m'\u001b[39m\u001b[38;5;124mWarning: Cannot change to a different GUI toolkit: \u001b[39m\u001b[38;5;132;01m%s\u001b[39;00m\u001b[38;5;124m.\u001b[39m\u001b[38;5;124m'\u001b[39m\n\u001b[1;32m   3600\u001b[0m                 \u001b[38;5;124m'\u001b[39m\u001b[38;5;124m Using \u001b[39m\u001b[38;5;132;01m%s\u001b[39;00m\u001b[38;5;124m instead.\u001b[39m\u001b[38;5;124m'\u001b[39m \u001b[38;5;241m%\u001b[39m (gui, \u001b[38;5;28mself\u001b[39m\u001b[38;5;241m.\u001b[39mpylab_gui_select))\n\u001b[1;32m   3601\u001b[0m         gui, backend \u001b[38;5;241m=\u001b[39m pt\u001b[38;5;241m.\u001b[39mfind_gui_and_backend(\u001b[38;5;28mself\u001b[39m\u001b[38;5;241m.\u001b[39mpylab_gui_select)\n\u001b[0;32m-> 3603\u001b[0m \u001b[43mpt\u001b[49m\u001b[38;5;241;43m.\u001b[39;49m\u001b[43mactivate_matplotlib\u001b[49m\u001b[43m(\u001b[49m\u001b[43mbackend\u001b[49m\u001b[43m)\u001b[49m\n\u001b[1;32m   3604\u001b[0m configure_inline_support(\u001b[38;5;28mself\u001b[39m, backend)\n\u001b[1;32m   3606\u001b[0m \u001b[38;5;66;03m# Now we must activate the gui pylab wants to use, and fix %run to take\u001b[39;00m\n\u001b[1;32m   3607\u001b[0m \u001b[38;5;66;03m# plot updates into account\u001b[39;00m\n",
      "File \u001b[0;32m/usr/lib/python3/dist-packages/IPython/core/pylabtools.py:360\u001b[0m, in \u001b[0;36mactivate_matplotlib\u001b[0;34m(backend)\u001b[0m\n\u001b[1;32m    355\u001b[0m \u001b[38;5;66;03m# Due to circular imports, pyplot may be only partially initialised\u001b[39;00m\n\u001b[1;32m    356\u001b[0m \u001b[38;5;66;03m# when this function runs.\u001b[39;00m\n\u001b[1;32m    357\u001b[0m \u001b[38;5;66;03m# So avoid needing matplotlib attribute-lookup to access pyplot.\u001b[39;00m\n\u001b[1;32m    358\u001b[0m \u001b[38;5;28;01mfrom\u001b[39;00m \u001b[38;5;21;01mmatplotlib\u001b[39;00m \u001b[38;5;28;01mimport\u001b[39;00m pyplot \u001b[38;5;28;01mas\u001b[39;00m plt\n\u001b[0;32m--> 360\u001b[0m \u001b[43mplt\u001b[49m\u001b[38;5;241;43m.\u001b[39;49m\u001b[43mswitch_backend\u001b[49m\u001b[43m(\u001b[49m\u001b[43mbackend\u001b[49m\u001b[43m)\u001b[49m\n\u001b[1;32m    362\u001b[0m plt\u001b[38;5;241m.\u001b[39mshow\u001b[38;5;241m.\u001b[39m_needmain \u001b[38;5;241m=\u001b[39m \u001b[38;5;28;01mFalse\u001b[39;00m\n\u001b[1;32m    363\u001b[0m \u001b[38;5;66;03m# We need to detect at runtime whether show() is called by the user.\u001b[39;00m\n\u001b[1;32m    364\u001b[0m \u001b[38;5;66;03m# For this, we wrap it into a decorator which adds a 'called' flag.\u001b[39;00m\n",
      "File \u001b[0;32m/usr/lib/python3/dist-packages/matplotlib/pyplot.py:271\u001b[0m, in \u001b[0;36mswitch_backend\u001b[0;34m(newbackend)\u001b[0m\n\u001b[1;32m    268\u001b[0m \u001b[38;5;66;03m# have to escape the switch on access logic\u001b[39;00m\n\u001b[1;32m    269\u001b[0m old_backend \u001b[38;5;241m=\u001b[39m \u001b[38;5;28mdict\u001b[39m\u001b[38;5;241m.\u001b[39m\u001b[38;5;21m__getitem__\u001b[39m(rcParams, \u001b[38;5;124m'\u001b[39m\u001b[38;5;124mbackend\u001b[39m\u001b[38;5;124m'\u001b[39m)\n\u001b[0;32m--> 271\u001b[0m backend_mod \u001b[38;5;241m=\u001b[39m \u001b[43mimportlib\u001b[49m\u001b[38;5;241;43m.\u001b[39;49m\u001b[43mimport_module\u001b[49m\u001b[43m(\u001b[49m\n\u001b[1;32m    272\u001b[0m \u001b[43m    \u001b[49m\u001b[43mcbook\u001b[49m\u001b[38;5;241;43m.\u001b[39;49m\u001b[43m_backend_module_name\u001b[49m\u001b[43m(\u001b[49m\u001b[43mnewbackend\u001b[49m\u001b[43m)\u001b[49m\u001b[43m)\u001b[49m\n\u001b[1;32m    274\u001b[0m required_framework \u001b[38;5;241m=\u001b[39m _get_required_interactive_framework(backend_mod)\n\u001b[1;32m    275\u001b[0m \u001b[38;5;28;01mif\u001b[39;00m required_framework \u001b[38;5;129;01mis\u001b[39;00m \u001b[38;5;129;01mnot\u001b[39;00m \u001b[38;5;28;01mNone\u001b[39;00m:\n",
      "File \u001b[0;32m/usr/lib/python3.10/importlib/__init__.py:126\u001b[0m, in \u001b[0;36mimport_module\u001b[0;34m(name, package)\u001b[0m\n\u001b[1;32m    124\u001b[0m             \u001b[38;5;28;01mbreak\u001b[39;00m\n\u001b[1;32m    125\u001b[0m         level \u001b[38;5;241m+\u001b[39m\u001b[38;5;241m=\u001b[39m \u001b[38;5;241m1\u001b[39m\n\u001b[0;32m--> 126\u001b[0m \u001b[38;5;28;01mreturn\u001b[39;00m \u001b[43m_bootstrap\u001b[49m\u001b[38;5;241;43m.\u001b[39;49m\u001b[43m_gcd_import\u001b[49m\u001b[43m(\u001b[49m\u001b[43mname\u001b[49m\u001b[43m[\u001b[49m\u001b[43mlevel\u001b[49m\u001b[43m:\u001b[49m\u001b[43m]\u001b[49m\u001b[43m,\u001b[49m\u001b[43m \u001b[49m\u001b[43mpackage\u001b[49m\u001b[43m,\u001b[49m\u001b[43m \u001b[49m\u001b[43mlevel\u001b[49m\u001b[43m)\u001b[49m\n",
      "File \u001b[0;32m<frozen importlib._bootstrap>:1050\u001b[0m, in \u001b[0;36m_gcd_import\u001b[0;34m(name, package, level)\u001b[0m\n",
      "File \u001b[0;32m<frozen importlib._bootstrap>:1027\u001b[0m, in \u001b[0;36m_find_and_load\u001b[0;34m(name, import_)\u001b[0m\n",
      "File \u001b[0;32m<frozen importlib._bootstrap>:992\u001b[0m, in \u001b[0;36m_find_and_load_unlocked\u001b[0;34m(name, import_)\u001b[0m\n",
      "File \u001b[0;32m<frozen importlib._bootstrap>:241\u001b[0m, in \u001b[0;36m_call_with_frames_removed\u001b[0;34m(f, *args, **kwds)\u001b[0m\n",
      "File \u001b[0;32m<frozen importlib._bootstrap>:1050\u001b[0m, in \u001b[0;36m_gcd_import\u001b[0;34m(name, package, level)\u001b[0m\n",
      "File \u001b[0;32m<frozen importlib._bootstrap>:1027\u001b[0m, in \u001b[0;36m_find_and_load\u001b[0;34m(name, import_)\u001b[0m\n",
      "File \u001b[0;32m<frozen importlib._bootstrap>:1004\u001b[0m, in \u001b[0;36m_find_and_load_unlocked\u001b[0;34m(name, import_)\u001b[0m\n",
      "\u001b[0;31mModuleNotFoundError\u001b[0m: No module named 'ipympl'"
     ]
    }
   ],
   "source": [
    "import numpy as np\n",
    "from scipy.optimize import linprog\n",
    "\n",
    "import ipywidgets as widgets\n",
    "import matplotlib.pyplot as plt\n",
    "%matplotlib widget"
   ]
  },
  {
   "cell_type": "markdown",
   "id": "8974111a",
   "metadata": {},
   "source": [
    "# Linear programming\n",
    "\n",
    "Linear programming (LP) is a mathematical formalism which allows us to minimize a linear function is minimized subject to a number of linear (equality and inequality) constraints. \n",
    "\n",
    "**Objective:**\n",
    "Minimize or maximize the objective function:\n",
    "\n",
    "$ \\mathbf{Z} = \\mathbf{c}^T \\mathbf{x} $\n",
    "\n",
    "where:\n",
    "- $\\mathbf{Z}$ is the objective function\n",
    "- $\\mathbf{c} = [c_1, c_2, \\ldots, c_n]$ is the coefficient vector of the objective function\n",
    "- $\\mathbf{x} = [x_1, x_2, \\ldots, x_n]$ is the decision variable vector\n",
    "\n",
    "Subject to a number of linear constraints which can be expressed in matrix form as:\n",
    "\n",
    "$ \\mathbf{A}\\mathbf{x} \\, \\leq \\, \\mathbf{b} $\n",
    "\n"
   ]
  },
  {
   "cell_type": "markdown",
   "id": "50a7144b",
   "metadata": {},
   "source": [
    "## Simple example: 2D problem\n",
    "\n",
    "We will now study a following problem: \n",
    "\n",
    "**Maximize** $3x + 4y$ subject to following constraints:\n",
    "- $4 + 2y \\leq 14$\n",
    "- $3x - y \\geq 0$\n",
    "- $x - y \\leq 2$\n",
    "\n",
    "Let us first visually inspect the feasible region:\n"
   ]
  },
  {
   "cell_type": "code",
   "execution_count": 12,
   "id": "ab6e3321",
   "metadata": {},
   "outputs": [
    {
     "data": {
      "application/vnd.jupyter.widget-view+json": {
       "model_id": "393ed06adcb843f5b9eccd59c1f1d04a",
       "version_major": 2,
       "version_minor": 0
      },
      "text/plain": [
       "interactive(children=(Checkbox(value=False, description='Show objective function'), Checkbox(value=False, desc…"
      ]
     },
     "metadata": {},
     "output_type": "display_data"
    },
    {
     "data": {
      "application/vnd.jupyter.widget-view+json": {
       "model_id": "2798cccc251940bcbdb5e9c5271d2269",
       "version_major": 2,
       "version_minor": 0
      },
      "image/png": "[encoded data removed]",
      "text/html": [
       "\n",
       "            <div style=\"display: inline-block;\">\n",
       "                <div class=\"jupyter-widgets widget-label\" style=\"text-align: center;\">\n",
       "                    Figure\n",
       "                </div>\n",
       "                <img src='data:image/png;base64,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' width=500.0/>\n",
       "            </div>\n",
       "        "
      ],
      "text/plain": [
       "Canvas(toolbar=Toolbar(toolitems=[('Home', 'Reset original view', 'home', 'home'), ('Back', 'Back to previous …"
      ]
     },
     "metadata": {},
     "output_type": "display_data"
    }
   ],
   "source": [
    "\n",
    "grid = np.linspace(-5,10,300)\n",
    "x2d, y2d = np.meshgrid(grid, grid)\n",
    "\n",
    "# reformulate first constraint\n",
    "y1 = 7 - 0.5 * grid\n",
    "# reformulate second constraint\n",
    "y2 = 3 * grid\n",
    "# reformulate last constraint\n",
    "y3 = grid - 2\n",
    "\n",
    "# objective function is a vector\n",
    "obj_fun = 4/3 * grid\n",
    "\n",
    "# orthogonal to the objective function\n",
    "obj_fun_orth = -3/4 * grid + 8.5\n",
    "\n",
    "# let's plot the lines that are the border of our feasible region:\n",
    "\n",
    "fig, ax = plt.subplots(figsize=(5,5))\n",
    "fig.suptitle('Feasible region')\n",
    "\n",
    "ax.plot(grid, y1, color='#9f9f9f')\n",
    "ax.plot(grid, y2, color='#9f9f9f')\n",
    "ax.plot(grid, y3, color='#9f9f9f')\n",
    "\n",
    "# let's plot the surface defined by our constraints:\n",
    "ax.imshow((x2d + 2*y2d <= 14) & (3*x2d - y2d >= 0) & (x2d - y2d <= 2),\n",
    "\t\t   extent=(x2d.min(), x2d.max(), y2d.min(), y2d.max()),\n",
    "           origin='lower', cmap='Greys', alpha=0.2)\n",
    "\n",
    "# finally, let's visualize the objective function\n",
    "# ax.plot(grid, obj_fun, color='r')\n",
    "\n",
    "# we display only the interesting region of space\n",
    "ax.set_xlim((x2d.min(), x2d.max()))\n",
    "ax.set_ylim(y2d.min(), y2d.max())\n",
    "\n",
    "# plot the objective function vector\n",
    "obj_fun_plot, = ax.plot(grid, obj_fun, color='r', label='obj_fun')\n",
    "obj_fun_plot.set_visible(False)\n",
    "orth_plot, = ax.plot(grid, obj_fun_orth, '--', color='r', label='obj_fun_orth')\n",
    "orth_plot.set_visible(False)\n",
    "\n",
    "@widgets.interact(plot_obj_fun=widgets.Checkbox(description='Show objective function'),\n",
    "                  plot_orth=widgets.Checkbox(description='Show orthogonal plane'))\n",
    "def do_smt(plot_obj_fun=False, plot_orth=False):\n",
    "    obj_fun_plot.set_visible(plot_obj_fun)\n",
    "    orth_plot.set_visible(plot_orth)"
   ]
  },
  {
   "cell_type": "markdown",
   "id": "5d9acb13",
   "metadata": {},
   "source": [
    "**Let's define the matrices and vectors of the LP problem!**\n",
    "\n",
    "**Maximize** $3x + 4y$ subject to following constraints:\n",
    "- $x + 2y \\leq 14$\n",
    "- $3x - y \\geq 0$\n",
    "- $x - y \\leq 2$\n",
    "\n",
    "\n",
    "\\begin{align}\n",
    "\\min_{\\mathbf{x}} & & \\mathbf{c}^T \\mathbf{x} \\\\\n",
    "\\texttt{such that} & & \\mathbf{A}\\mathbf{x} \\, \\leq \\, \\mathbf{b}\n",
    "\\end{align}\n",
    "\n",
    "\n",
    "\n",
    "Our problem becomes:\n",
    "\n",
    "Maximize:\n",
    "$ \\begin{bmatrix} 3 & 4 \\end{bmatrix} \\mathbf{x} $\n",
    "\n",
    "subject to:\n",
    "\n",
    "$\\begin{bmatrix}\n",
    "1 & 2 \\\\\n",
    "3 & -1 \\\\\n",
    "1 & -1 \\\\\n",
    "\\end{bmatrix}\n",
    "\\mathbf{x}\n",
    "\\begin{bmatrix}\n",
    "\\leq \\\\\n",
    "\\geq \\\\\n",
    "\\leq \\\\\n",
    "\\end{bmatrix}\n",
    "\\begin{bmatrix}\n",
    "14 \\\\\n",
    "0 \\\\\n",
    "2 \\\\\n",
    "\\end{bmatrix}$\n",
    "\n",
    "Now we need to convert all signs to $\\leq$:\n",
    "\n",
    "\n",
    "$\\begin{bmatrix}\n",
    "1 & 2 \\\\\n",
    "-3 & 1 \\\\\n",
    "1 & -1 \\\\\n",
    "\\end{bmatrix}\n",
    "\\mathbf{x}\n",
    "\\begin{bmatrix}\n",
    "\\leq \\\\\n",
    "\\leq \\\\\n",
    "\\leq \\\\\n",
    "\\end{bmatrix}\n",
    "\\begin{bmatrix}\n",
    "14 \\\\\n",
    "0 \\\\\n",
    "2 \\\\\n",
    "\\end{bmatrix}$\n",
    "\n",
    "\n",
    "Let's write the Python code for solving that!"
   ]
  },
  {
   "cell_type": "code",
   "execution_count": 24,
   "id": "5040c765",
   "metadata": {},
   "outputs": [
    {
     "name": "stdout",
     "output_type": "stream",
     "text": [
      "Optimal value: -15.0 \n",
      "x values: [-1. -3.] \n",
      "Number of iterations performed: 0 \n",
      "Status: Optimization terminated successfully. (HiGHS Status 7: Optimal)\n"
     ]
    }
   ],
   "source": [
    "A_ub = np.array([[1, 2], [-3, 1], [1, -1]])\n",
    "b_ub = np.array([14, 0, 2])\n",
    "c = np.array([3, 4])\n",
    "bounds = [(-np.inf, np.inf), (-np.inf, np.inf)]\n",
    "\n",
    "res = linprog(c, A_ub=A_ub, b_ub=b_ub, bounds= bounds)\n",
    "print('Optimal value:', round(res.fun, ndigits=2),\n",
    "      '\\nx values:', res.x,\n",
    "      '\\nNumber of iterations performed:', res.nit,\n",
    "      '\\nStatus:', res.message)"
   ]
  },
  {
   "cell_type": "markdown",
   "id": "c53184b7",
   "metadata": {},
   "source": [
    "# Why this point?\n",
    "Let's go back to our visualization!"
   ]
  },
  {
   "cell_type": "code",
   "execution_count": 25,
   "id": "99376e24",
   "metadata": {},
   "outputs": [
    {
     "name": "stdout",
     "output_type": "stream",
     "text": [
      "Optimal value: -34.0 \n",
      "x values: [6. 4.] \n",
      "Number of iterations performed: 3 \n",
      "Status: Optimization terminated successfully. (HiGHS Status 7: Optimal)\n"
     ]
    }
   ],
   "source": [
    "res = linprog(-c, A_ub=A_ub, b_ub=b_ub, bounds= bounds)\n",
    "print('Optimal value:', round(res.fun, ndigits=2),\n",
    "      '\\nx values:', res.x,\n",
    "      '\\nNumber of iterations performed:', res.nit,\n",
    "      '\\nStatus:', res.message)"
   ]
  },
  {
   "cell_type": "markdown",
   "id": "347f98b7",
   "metadata": {},
   "source": [
    "# Impact of individual constraints on the solution\n",
    "We can see from our visualization that not all constraints have the same impact on the optimal solution. There is a numerical way to quantify the impact of each constraint on the optimal value.\n",
    "Each LP problem has the so-called `shadow prices`. There is a shadow price associated to every constraint. \n",
    "\n",
    "If a shadow price for a constraint $c_1: ax + by \\leq c$ is 10 - that means that changing the $c_1$ to $ax + by \\leq c+1$, the optimal value for the LP problem will decrease by 10."
   ]
  },
  {
   "cell_type": "code",
   "execution_count": null,
   "id": "3ecb2013",
   "metadata": {},
   "outputs": [],
   "source": []
  }
 ],
 "metadata": {
  "kernelspec": {
   "display_name": "Python 3 (ipykernel)",
   "language": "python",
   "name": "python3"
  },
  "language_info": {
   "codemirror_mode": {
    "name": "ipython",
    "version": 3
   },
   "file_extension": ".py",
   "mimetype": "text/x-python",
   "name": "python",
   "nbconvert_exporter": "python",
   "pygments_lexer": "ipython3",
   "version": "3.10.6"
  }
 },
 "nbformat": 4,
 "nbformat_minor": 5
}
