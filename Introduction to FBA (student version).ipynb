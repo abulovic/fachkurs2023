{
 "cells": [
  {
   "cell_type": "markdown",
   "id": "6a4e8c92",
   "metadata": {},
   "source": [
    "# Introduction to Flux Balance Analysis\n",
    "\n",
    "Orth, Jeffrey D., Ines Thiele, and Bernhard Ø. Palsson. \"What is flux balance analysis?.\" Nature biotechnology 28.3 (2010): 245-248.\n",
    "\n",
    "In short, flux balance analysis is a way to take into account and exploit the constraints that stoichiometric relations in metabolic reactions impose on the possible states of the entire metabolism. Additionally, metabolism is made to produce an approximation of the biomass through what is called the \"biomass reaction\". This biomass equation ensures that the demands on the metabolism are realistic.\n",
    "Typically, in FBA, it is the flux through the biomass reaction that is maximized."
   ]
  },
  {
   "cell_type": "code",
   "execution_count": 22,
   "id": "227062bb",
   "metadata": {},
   "outputs": [],
   "source": [
    "import cobra\n",
    "from cobra.io import load_model, read_sbml_model, write_sbml_model\n",
    "import pandas as pd\n",
    "\n",
    "config = cobra.Configuration()\n",
    "config.solver = \"glpk\""
   ]
  },
  {
   "cell_type": "code",
   "execution_count": 7,
   "id": "5e4a5e33",
   "metadata": {},
   "outputs": [
    {
     "data": {
      "text/html": [
       "\n",
       "        <table>\n",
       "            <tr>\n",
       "                <td><strong>Name</strong></td>\n",
       "                <td>e_coli_core</td>\n",
       "            </tr><tr>\n",
       "                <td><strong>Memory address</strong></td>\n",
       "                <td>7f6752aa5b70</td>\n",
       "            </tr><tr>\n",
       "                <td><strong>Number of metabolites</strong></td>\n",
       "                <td>72</td>\n",
       "            </tr><tr>\n",
       "                <td><strong>Number of reactions</strong></td>\n",
       "                <td>95</td>\n",
       "            </tr><tr>\n",
       "                <td><strong>Number of genes</strong></td>\n",
       "                <td>137</td>\n",
       "            </tr><tr>\n",
       "                <td><strong>Number of groups</strong></td>\n",
       "                <td>0</td>\n",
       "            </tr><tr>\n",
       "                <td><strong>Objective expression</strong></td>\n",
       "                <td>1.0*BIOMASS_Ecoli_core_w_GAM - 1.0*BIOMASS_Ecoli_core_w_GAM_reverse_712e5</td>\n",
       "            </tr><tr>\n",
       "                <td><strong>Compartments</strong></td>\n",
       "                <td>extracellular space, cytosol</td>\n",
       "            </tr>\n",
       "          </table>"
      ],
      "text/plain": [
       "<Model e_coli_core at 0x7f6752aa5b70>"
      ]
     },
     "execution_count": 7,
     "metadata": {},
     "output_type": "execute_result"
    }
   ],
   "source": [
    "model = read_sbml_model('e_coli_core.xml')\n",
    "model"
   ]
  },
  {
   "cell_type": "markdown",
   "id": "54a3c696",
   "metadata": {},
   "source": [
    "## What is the objective function?\n",
    "\n",
    "We notice that the objective function is written in Cobra as the difference of the forward and backward direction of the flux through the biomass reaction. This is only a convention and serves to be able to both minimize and maximize it, depending on the user specification."
   ]
  },
  {
   "cell_type": "code",
   "execution_count": 8,
   "id": "559ac01d",
   "metadata": {},
   "outputs": [
    {
     "name": "stdout",
     "output_type": "stream",
     "text": [
      "1.0*BIOMASS_Ecoli_core_w_GAM - 1.0*BIOMASS_Ecoli_core_w_GAM_reverse_712e5\n",
      "max\n"
     ]
    }
   ],
   "source": [
    "print(model.objective.expression)\n",
    "print(model.objective.direction)"
   ]
  },
  {
   "cell_type": "markdown",
   "id": "1bb65469",
   "metadata": {},
   "source": [
    "## What is the biomass reaction?"
   ]
  },
  {
   "cell_type": "code",
   "execution_count": 9,
   "id": "c3964b28",
   "metadata": {},
   "outputs": [
    {
     "data": {
      "text/html": [
       "\n",
       "        <table>\n",
       "            <tr>\n",
       "                <td><strong>Reaction identifier</strong></td><td>BIOMASS_Ecoli_core_w_GAM</td>\n",
       "            </tr><tr>\n",
       "                <td><strong>Name</strong></td><td>Biomass Objective Function with GAM</td>\n",
       "            </tr><tr>\n",
       "                <td><strong>Memory address</strong></td>\n",
       "                <td>0x7f67524262c0</td>\n",
       "            </tr><tr>\n",
       "                <td><strong>Stoichiometry</strong></td>\n",
       "                <td>\n",
       "                    <p style='text-align:right'>1.496 3pg_c + 3.7478 accoa_c + 59.81 atp_c + 0.361 e4p_c + 0.0709 f6p_c + 0.129 g3p_c + 0.205 g6p_c + 0.2557 gln__L_c + 4.9414 glu__L_c + 59.81 h2o_c + 3.547 nad_c + 13.0279 nadph_c + 1.7867 oaa_c...</p>\n",
       "                    <p style='text-align:right'>1.496 3-Phospho-D-glycerate + 3.7478 Acetyl-CoA + 59.81 ATP C10H12N5O13P3 + 0.361 D-Erythrose 4-phosphate + 0.0709 D-Fructose 6-phosphate + 0.129 Glyceraldehyde 3-phosphate + 0.205 D-Glucose...</p>\n",
       "                </td>\n",
       "            </tr><tr>\n",
       "                <td><strong>GPR</strong></td><td></td>\n",
       "            </tr><tr>\n",
       "                <td><strong>Lower bound</strong></td><td>0.0</td>\n",
       "            </tr><tr>\n",
       "                <td><strong>Upper bound</strong></td><td>1000.0</td>\n",
       "            </tr>\n",
       "        </table>\n",
       "        "
      ],
      "text/plain": [
       "<Reaction BIOMASS_Ecoli_core_w_GAM at 0x7f67524262c0>"
      ]
     },
     "execution_count": 9,
     "metadata": {},
     "output_type": "execute_result"
    }
   ],
   "source": [
    "biomass_reaction = model.reactions.get_by_id('BIOMASS_Ecoli_core_w_GAM')\n",
    "biomass_reaction"
   ]
  },
  {
   "cell_type": "code",
   "execution_count": 10,
   "id": "43c5d00a",
   "metadata": {},
   "outputs": [
    {
     "data": {
      "text/html": [
       "<div>\n",
       "<style scoped>\n",
       "    .dataframe tbody tr th:only-of-type {\n",
       "        vertical-align: middle;\n",
       "    }\n",
       "\n",
       "    .dataframe tbody tr th {\n",
       "        vertical-align: top;\n",
       "    }\n",
       "\n",
       "    .dataframe thead th {\n",
       "        text-align: right;\n",
       "    }\n",
       "</style>\n",
       "<table border=\"1\" class=\"dataframe\">\n",
       "  <thead>\n",
       "    <tr style=\"text-align: right;\">\n",
       "      <th></th>\n",
       "      <th>Metabolite name</th>\n",
       "      <th>Formula</th>\n",
       "      <th>Stoichiometry</th>\n",
       "    </tr>\n",
       "    <tr>\n",
       "      <th>Metabolite ID</th>\n",
       "      <th></th>\n",
       "      <th></th>\n",
       "      <th></th>\n",
       "    </tr>\n",
       "  </thead>\n",
       "  <tbody>\n",
       "    <tr>\n",
       "      <th>3pg_c</th>\n",
       "      <td>3-Phospho-D-glycerate</td>\n",
       "      <td>C3H4O7P</td>\n",
       "      <td>-1.4960</td>\n",
       "    </tr>\n",
       "    <tr>\n",
       "      <th>accoa_c</th>\n",
       "      <td>Acetyl-CoA</td>\n",
       "      <td>C23H34N7O17P3S</td>\n",
       "      <td>-3.7478</td>\n",
       "    </tr>\n",
       "    <tr>\n",
       "      <th>atp_c</th>\n",
       "      <td>ATP C10H12N5O13P3</td>\n",
       "      <td>C10H12N5O13P3</td>\n",
       "      <td>-59.8100</td>\n",
       "    </tr>\n",
       "    <tr>\n",
       "      <th>e4p_c</th>\n",
       "      <td>D-Erythrose 4-phosphate</td>\n",
       "      <td>C4H7O7P</td>\n",
       "      <td>-0.3610</td>\n",
       "    </tr>\n",
       "    <tr>\n",
       "      <th>f6p_c</th>\n",
       "      <td>D-Fructose 6-phosphate</td>\n",
       "      <td>C6H11O9P</td>\n",
       "      <td>-0.0709</td>\n",
       "    </tr>\n",
       "    <tr>\n",
       "      <th>g3p_c</th>\n",
       "      <td>Glyceraldehyde 3-phosphate</td>\n",
       "      <td>C3H5O6P</td>\n",
       "      <td>-0.1290</td>\n",
       "    </tr>\n",
       "    <tr>\n",
       "      <th>g6p_c</th>\n",
       "      <td>D-Glucose 6-phosphate</td>\n",
       "      <td>C6H11O9P</td>\n",
       "      <td>-0.2050</td>\n",
       "    </tr>\n",
       "    <tr>\n",
       "      <th>gln__L_c</th>\n",
       "      <td>L-Glutamine</td>\n",
       "      <td>C5H10N2O3</td>\n",
       "      <td>-0.2557</td>\n",
       "    </tr>\n",
       "    <tr>\n",
       "      <th>glu__L_c</th>\n",
       "      <td>L-Glutamate</td>\n",
       "      <td>C5H8NO4</td>\n",
       "      <td>-4.9414</td>\n",
       "    </tr>\n",
       "    <tr>\n",
       "      <th>h2o_c</th>\n",
       "      <td>H2O H2O</td>\n",
       "      <td>H2O</td>\n",
       "      <td>-59.8100</td>\n",
       "    </tr>\n",
       "    <tr>\n",
       "      <th>nad_c</th>\n",
       "      <td>Nicotinamide adenine dinucleotide</td>\n",
       "      <td>C21H26N7O14P2</td>\n",
       "      <td>-3.5470</td>\n",
       "    </tr>\n",
       "    <tr>\n",
       "      <th>nadph_c</th>\n",
       "      <td>Nicotinamide adenine dinucleotide phosphate - ...</td>\n",
       "      <td>C21H26N7O17P3</td>\n",
       "      <td>-13.0279</td>\n",
       "    </tr>\n",
       "    <tr>\n",
       "      <th>oaa_c</th>\n",
       "      <td>Oxaloacetate</td>\n",
       "      <td>C4H2O5</td>\n",
       "      <td>-1.7867</td>\n",
       "    </tr>\n",
       "    <tr>\n",
       "      <th>pep_c</th>\n",
       "      <td>Phosphoenolpyruvate</td>\n",
       "      <td>C3H2O6P</td>\n",
       "      <td>-0.5191</td>\n",
       "    </tr>\n",
       "    <tr>\n",
       "      <th>pyr_c</th>\n",
       "      <td>Pyruvate</td>\n",
       "      <td>C3H3O3</td>\n",
       "      <td>-2.8328</td>\n",
       "    </tr>\n",
       "    <tr>\n",
       "      <th>r5p_c</th>\n",
       "      <td>Alpha-D-Ribose 5-phosphate</td>\n",
       "      <td>C5H9O8P</td>\n",
       "      <td>-0.8977</td>\n",
       "    </tr>\n",
       "    <tr>\n",
       "      <th>adp_c</th>\n",
       "      <td>ADP C10H12N5O10P2</td>\n",
       "      <td>C10H12N5O10P2</td>\n",
       "      <td>59.8100</td>\n",
       "    </tr>\n",
       "    <tr>\n",
       "      <th>akg_c</th>\n",
       "      <td>2-Oxoglutarate</td>\n",
       "      <td>C5H4O5</td>\n",
       "      <td>4.1182</td>\n",
       "    </tr>\n",
       "    <tr>\n",
       "      <th>coa_c</th>\n",
       "      <td>Coenzyme A</td>\n",
       "      <td>C21H32N7O16P3S</td>\n",
       "      <td>3.7478</td>\n",
       "    </tr>\n",
       "    <tr>\n",
       "      <th>h_c</th>\n",
       "      <td>H+</td>\n",
       "      <td>H</td>\n",
       "      <td>59.8100</td>\n",
       "    </tr>\n",
       "    <tr>\n",
       "      <th>nadh_c</th>\n",
       "      <td>Nicotinamide adenine dinucleotide - reduced</td>\n",
       "      <td>C21H27N7O14P2</td>\n",
       "      <td>3.5470</td>\n",
       "    </tr>\n",
       "    <tr>\n",
       "      <th>nadp_c</th>\n",
       "      <td>Nicotinamide adenine dinucleotide phosphate</td>\n",
       "      <td>C21H25N7O17P3</td>\n",
       "      <td>13.0279</td>\n",
       "    </tr>\n",
       "    <tr>\n",
       "      <th>pi_c</th>\n",
       "      <td>Phosphate</td>\n",
       "      <td>HO4P</td>\n",
       "      <td>59.8100</td>\n",
       "    </tr>\n",
       "  </tbody>\n",
       "</table>\n",
       "</div>"
      ],
      "text/plain": [
       "                                                 Metabolite name  \\\n",
       "Metabolite ID                                                      \n",
       "3pg_c                                      3-Phospho-D-glycerate   \n",
       "accoa_c                                               Acetyl-CoA   \n",
       "atp_c                                          ATP C10H12N5O13P3   \n",
       "e4p_c                                    D-Erythrose 4-phosphate   \n",
       "f6p_c                                     D-Fructose 6-phosphate   \n",
       "g3p_c                                 Glyceraldehyde 3-phosphate   \n",
       "g6p_c                                      D-Glucose 6-phosphate   \n",
       "gln__L_c                                             L-Glutamine   \n",
       "glu__L_c                                             L-Glutamate   \n",
       "h2o_c                                                    H2O H2O   \n",
       "nad_c                          Nicotinamide adenine dinucleotide   \n",
       "nadph_c        Nicotinamide adenine dinucleotide phosphate - ...   \n",
       "oaa_c                                               Oxaloacetate   \n",
       "pep_c                                        Phosphoenolpyruvate   \n",
       "pyr_c                                                   Pyruvate   \n",
       "r5p_c                                 Alpha-D-Ribose 5-phosphate   \n",
       "adp_c                                          ADP C10H12N5O10P2   \n",
       "akg_c                                             2-Oxoglutarate   \n",
       "coa_c                                                 Coenzyme A   \n",
       "h_c                                                           H+   \n",
       "nadh_c               Nicotinamide adenine dinucleotide - reduced   \n",
       "nadp_c               Nicotinamide adenine dinucleotide phosphate   \n",
       "pi_c                                                   Phosphate   \n",
       "\n",
       "                      Formula  Stoichiometry  \n",
       "Metabolite ID                                 \n",
       "3pg_c                 C3H4O7P        -1.4960  \n",
       "accoa_c        C23H34N7O17P3S        -3.7478  \n",
       "atp_c           C10H12N5O13P3       -59.8100  \n",
       "e4p_c                 C4H7O7P        -0.3610  \n",
       "f6p_c                C6H11O9P        -0.0709  \n",
       "g3p_c                 C3H5O6P        -0.1290  \n",
       "g6p_c                C6H11O9P        -0.2050  \n",
       "gln__L_c            C5H10N2O3        -0.2557  \n",
       "glu__L_c              C5H8NO4        -4.9414  \n",
       "h2o_c                     H2O       -59.8100  \n",
       "nad_c           C21H26N7O14P2        -3.5470  \n",
       "nadph_c         C21H26N7O17P3       -13.0279  \n",
       "oaa_c                  C4H2O5        -1.7867  \n",
       "pep_c                 C3H2O6P        -0.5191  \n",
       "pyr_c                  C3H3O3        -2.8328  \n",
       "r5p_c                 C5H9O8P        -0.8977  \n",
       "adp_c           C10H12N5O10P2        59.8100  \n",
       "akg_c                  C5H4O5         4.1182  \n",
       "coa_c          C21H32N7O16P3S         3.7478  \n",
       "h_c                         H        59.8100  \n",
       "nadh_c          C21H27N7O14P2         3.5470  \n",
       "nadp_c          C21H25N7O17P3        13.0279  \n",
       "pi_c                     HO4P        59.8100  "
      ]
     },
     "execution_count": 10,
     "metadata": {},
     "output_type": "execute_result"
    }
   ],
   "source": [
    "biomass_met_df = pd.DataFrame(columns=('Metabolite ID', 'Metabolite name', 'Formula', 'Stoichiometry'))\n",
    "\n",
    "for met in biomass_reaction.reactants:\n",
    "    biomass_met_df = biomass_met_df.append(pd.Series([met.id, met.name, met.formula, biomass_reaction.get_coefficient(met.id)],\n",
    "                             index=biomass_met_df.columns),\n",
    "                             ignore_index=True)\n",
    "\n",
    "for met in biomass_reaction.products:\n",
    "    biomass_met_df = biomass_met_df.append(pd.Series([met.id, met.name, met.formula, biomass_reaction.get_coefficient(met.id)],\n",
    "                             index=biomass_met_df.columns),\n",
    "                             ignore_index=True)\n",
    "    \n",
    "biomass_met_df.set_index('Metabolite ID', inplace=True)\n",
    "biomass_met_df\n"
   ]
  },
  {
   "cell_type": "markdown",
   "id": "d0f651b3",
   "metadata": {},
   "source": [
    "## How can we inspect any metabolite or any reaction?"
   ]
  },
  {
   "cell_type": "code",
   "execution_count": 11,
   "id": "6b2c41c6",
   "metadata": {},
   "outputs": [
    {
     "data": {
      "text/html": [
       "\n",
       "        <table>\n",
       "            <tr>\n",
       "                <td><strong>Metabolite identifier</strong></td><td>h_c</td>\n",
       "            </tr><tr>\n",
       "                <td><strong>Name</strong></td><td>H+</td>\n",
       "            </tr><tr>\n",
       "                <td><strong>Memory address</strong></td>\n",
       "                <td>0x7f6752abd300</td>\n",
       "            </tr><tr>\n",
       "                <td><strong>Formula</strong></td><td>H</td>\n",
       "            </tr><tr>\n",
       "                <td><strong>Compartment</strong></td><td>c</td>\n",
       "            </tr><tr>\n",
       "                <td><strong>In 35 reaction(s)</strong></td><td>\n",
       "                    GLNS, GLUDy, GLNabc, PGL, ATPS4r, BIOMASS_Ecoli_core_w_GAM, MDH, PFK, FUMt2_2, LDH_D, SUCCt3, CS, FORt2, GLUt2r, ALCD2x, ACALD, PIt2r, PYRt2, GAPD, THD2, PPC, ETOHt2r, ATPM, MALS, PPS, PYK, ACt2r,...\n",
       "                    </td>\n",
       "            </tr>\n",
       "        </table>"
      ],
      "text/plain": [
       "<Metabolite h_c at 0x7f6752abd300>"
      ]
     },
     "execution_count": 11,
     "metadata": {},
     "output_type": "execute_result"
    }
   ],
   "source": [
    "hydrogen_ion = model.metabolites.get_by_id('h_c')\n",
    "hydrogen_ion"
   ]
  },
  {
   "cell_type": "code",
   "execution_count": 12,
   "id": "229fe4e4",
   "metadata": {},
   "outputs": [
    {
     "data": {
      "text/html": [
       "\n",
       "        <table>\n",
       "            <tr>\n",
       "                <td><strong>Reaction identifier</strong></td><td>PGI</td>\n",
       "            </tr><tr>\n",
       "                <td><strong>Name</strong></td><td>Glucose-6-phosphate isomerase</td>\n",
       "            </tr><tr>\n",
       "                <td><strong>Memory address</strong></td>\n",
       "                <td>0x7f67527a8430</td>\n",
       "            </tr><tr>\n",
       "                <td><strong>Stoichiometry</strong></td>\n",
       "                <td>\n",
       "                    <p style='text-align:right'>g6p_c <=> f6p_c</p>\n",
       "                    <p style='text-align:right'>D-Glucose 6-phosphate <=> D-Fructose 6-phosphate</p>\n",
       "                </td>\n",
       "            </tr><tr>\n",
       "                <td><strong>GPR</strong></td><td>b4025</td>\n",
       "            </tr><tr>\n",
       "                <td><strong>Lower bound</strong></td><td>-1000.0</td>\n",
       "            </tr><tr>\n",
       "                <td><strong>Upper bound</strong></td><td>1000.0</td>\n",
       "            </tr>\n",
       "        </table>\n",
       "        "
      ],
      "text/plain": [
       "<Reaction PGI at 0x7f67527a8430>"
      ]
     },
     "execution_count": 12,
     "metadata": {},
     "output_type": "execute_result"
    }
   ],
   "source": [
    "PGI_reaction = model.reactions.get_by_id('PGI')\n",
    "PGI_reaction"
   ]
  },
  {
   "cell_type": "markdown",
   "id": "a63a2f36",
   "metadata": {},
   "source": [
    "## Simple exercise\n",
    "Write a code which extracts all the information for the hydrogen ion that you see printed above. Additionally, for each reaction in which it appears, write the stoichiometry (negative for substrates, positive for products)."
   ]
  },
  {
   "cell_type": "code",
   "execution_count": 13,
   "id": "1ae190f4",
   "metadata": {},
   "outputs": [
    {
     "name": "stdout",
     "output_type": "stream",
     "text": [
      "GLNS 1.0 (Glutamine synthetase)\n",
      "GLUDy 1.0 (Glutamate dehydrogenase (NADP))\n",
      "GLNabc 1.0 (L-glutamine transport via ABC system)\n",
      "PGL 1.0 (6-phosphogluconolactonase)\n",
      "ATPS4r 3.0 (ATP synthase (four protons for one ATP))\n",
      "BIOMASS_Ecoli_core_w_GAM 59.81 (Biomass Objective Function with GAM)\n",
      "MDH 1.0 (Malate dehydrogenase)\n",
      "PFK 1.0 (Phosphofructokinase)\n",
      "FUMt2_2 2.0 (Fumarate transport via proton symport (2 H))\n",
      "LDH_D 1.0 (D-lactate dehydrogenase)\n",
      "SUCCt3 1.0 (Succinate transport out via proton antiport)\n",
      "CS 1.0 (Citrate synthase)\n",
      "FORt2 1.0 (Formate transport in via proton symport)\n",
      "GLUt2r 1.0 (L glutamate transport via proton symport  reversible)\n",
      "ALCD2x 1.0 (Alcohol dehydrogenase (ethanol))\n",
      "ACALD 1.0 (Acetaldehyde dehydrogenase (acetylating))\n",
      "PIt2r 1.0 (Phosphate reversible transport via symport)\n",
      "PYRt2 1.0 (Pyruvate transport in via proton symport)\n",
      "GAPD 1.0 (Glyceraldehyde-3-phosphate dehydrogenase)\n",
      "THD2 2.0 (NAD(P) transhydrogenase)\n",
      "PPC 1.0 (Phosphoenolpyruvate carboxylase)\n",
      "ETOHt2r 1.0 (Ethanol reversible transport via proton symport)\n",
      "ATPM 1.0 (ATP maintenance requirement)\n",
      "MALS 1.0 (Malate synthase)\n",
      "PPS 2.0 (Phosphoenolpyruvate synthase)\n",
      "PYK -1.0 (Pyruvate kinase)\n",
      "ACt2r 1.0 (Acetate reversible transport via proton symport)\n",
      "AKGt2r 1.0 (2 oxoglutarate reversible transport via symport)\n",
      "CYTBD -2.0 (Cytochrome oxidase bd (ubiquinol-8: 2 protons))\n",
      "SUCCt2_2 2.0 (Succinate transport via proton symport (2 H))\n",
      "D_LACt2 1.0 (D lactate transport via proton symport)\n",
      "GLUSy -1.0 (Glutamate synthase (NADPH))\n",
      "G6PDH2r 1.0 (Glucose 6-phosphate dehydrogenase)\n",
      "NADH16 -4.0 (NADH dehydrogenase (ubiquinone-8 & 3 protons))\n",
      "MALt2_2 2.0 (Malate transport via proton symport (2 H))\n"
     ]
    }
   ],
   "source": [
    "for h_reac in hydrogen_ion.reactions:\n",
    "    print(h_reac.id, h_reac.get_coefficient('h_c'), '({})'.format(h_reac.name))"
   ]
  },
  {
   "cell_type": "markdown",
   "id": "a971a9ec",
   "metadata": {},
   "source": [
    "## Exchange reactions\n",
    "\n",
    "Every FBA model has to have exchange reactions (uptake and excretion reactions). This is needed because metabolism needs to be at steady state, meaning that no metabolite can be accumulated or depleted. If there are no exchange reactions, this can happen only when all the fluxes are zero, which is not a particularily interesting case. For all other cases, there needs to be some exchange with the environment (both uptake and excretion).\n",
    "\n",
    "These exchange reactions also inform us of what can be present in our simulated medium (what can be taken up)."
   ]
  },
  {
   "cell_type": "code",
   "execution_count": 15,
   "id": "5714f615",
   "metadata": {},
   "outputs": [
    {
     "name": "stdout",
     "output_type": "stream",
     "text": [
      "Acetate\n",
      "Acetaldehyde\n",
      "2-Oxoglutarate\n",
      "CO2 CO2\n",
      "Ethanol\n",
      "Formate\n",
      "D-Fructose\n",
      "Fumarate\n",
      "D-Glucose\n",
      "L-Glutamine\n",
      "L-Glutamate\n",
      "H+\n",
      "H2O H2O\n",
      "D-Lactate\n",
      "L-Malate\n",
      "Ammonium\n",
      "O2 O2\n",
      "Phosphate\n",
      "Pyruvate\n",
      "Succinate\n"
     ]
    }
   ],
   "source": [
    "for ex_reac in model.exchanges:\n",
    "    print(ex_reac.reactants[0].name)"
   ]
  },
  {
   "cell_type": "markdown",
   "id": "371e1bd0",
   "metadata": {},
   "source": [
    "## Which of these metabolites are available in the medium?\n",
    "\n",
    "Not all the metabolites, however, need to be present in the medium. Often we are interested in minimal (chemicaly defined) media. Let's check what is available by default for this E. coli model.\n"
   ]
  },
  {
   "cell_type": "code",
   "execution_count": 16,
   "id": "bb297700",
   "metadata": {},
   "outputs": [
    {
     "data": {
      "text/plain": [
       "{'EX_co2_e': 1000.0,\n",
       " 'EX_glc__D_e': 10.0,\n",
       " 'EX_h_e': 1000.0,\n",
       " 'EX_h2o_e': 1000.0,\n",
       " 'EX_nh4_e': 1000.0,\n",
       " 'EX_o2_e': 1000.0,\n",
       " 'EX_pi_e': 1000.0}"
      ]
     },
     "execution_count": 16,
     "metadata": {},
     "output_type": "execute_result"
    }
   ],
   "source": [
    "model.medium"
   ]
  },
  {
   "cell_type": "markdown",
   "id": "852ad484",
   "metadata": {},
   "source": [
    "# Simulation\n",
    "Now we are going to simulate our model for growth on glucose. The simulation is an optimization procedure on a linear programming class of problem. \n",
    "There are two main parts to what the solver will give us as result: the numeric prediction of the network state, and the solver status which informs us on whether the solver managed to find the optimal solution or not."
   ]
  },
  {
   "cell_type": "code",
   "execution_count": 17,
   "id": "1c1e5dd6",
   "metadata": {},
   "outputs": [
    {
     "data": {
      "text/html": [
       "<strong><em>Optimal</em> solution with objective value 0.874</strong><br><div>\n",
       "<style scoped>\n",
       "    .dataframe tbody tr th:only-of-type {\n",
       "        vertical-align: middle;\n",
       "    }\n",
       "\n",
       "    .dataframe tbody tr th {\n",
       "        vertical-align: top;\n",
       "    }\n",
       "\n",
       "    .dataframe thead th {\n",
       "        text-align: right;\n",
       "    }\n",
       "</style>\n",
       "<table border=\"1\" class=\"dataframe\">\n",
       "  <thead>\n",
       "    <tr style=\"text-align: right;\">\n",
       "      <th></th>\n",
       "      <th>fluxes</th>\n",
       "      <th>reduced_costs</th>\n",
       "    </tr>\n",
       "  </thead>\n",
       "  <tbody>\n",
       "    <tr>\n",
       "      <th>PFK</th>\n",
       "      <td>7.477382</td>\n",
       "      <td>1.084202e-18</td>\n",
       "    </tr>\n",
       "    <tr>\n",
       "      <th>PFL</th>\n",
       "      <td>0.000000</td>\n",
       "      <td>-1.527746e-02</td>\n",
       "    </tr>\n",
       "    <tr>\n",
       "      <th>PGI</th>\n",
       "      <td>4.860861</td>\n",
       "      <td>0.000000e+00</td>\n",
       "    </tr>\n",
       "    <tr>\n",
       "      <th>PGK</th>\n",
       "      <td>-16.023526</td>\n",
       "      <td>-2.602085e-18</td>\n",
       "    </tr>\n",
       "    <tr>\n",
       "      <th>PGL</th>\n",
       "      <td>4.959985</td>\n",
       "      <td>0.000000e+00</td>\n",
       "    </tr>\n",
       "    <tr>\n",
       "      <th>...</th>\n",
       "      <td>...</td>\n",
       "      <td>...</td>\n",
       "    </tr>\n",
       "    <tr>\n",
       "      <th>NADH16</th>\n",
       "      <td>38.534610</td>\n",
       "      <td>4.336809e-19</td>\n",
       "    </tr>\n",
       "    <tr>\n",
       "      <th>NADTRHD</th>\n",
       "      <td>0.000000</td>\n",
       "      <td>-2.546243e-03</td>\n",
       "    </tr>\n",
       "    <tr>\n",
       "      <th>NH4t</th>\n",
       "      <td>4.765319</td>\n",
       "      <td>0.000000e+00</td>\n",
       "    </tr>\n",
       "    <tr>\n",
       "      <th>O2t</th>\n",
       "      <td>21.799493</td>\n",
       "      <td>0.000000e+00</td>\n",
       "    </tr>\n",
       "    <tr>\n",
       "      <th>PDH</th>\n",
       "      <td>9.282533</td>\n",
       "      <td>0.000000e+00</td>\n",
       "    </tr>\n",
       "  </tbody>\n",
       "</table>\n",
       "<p>95 rows × 2 columns</p>\n",
       "</div>"
      ],
      "text/plain": [
       "<Solution 0.874 at 0x7f675220cb20>"
      ]
     },
     "execution_count": 17,
     "metadata": {},
     "output_type": "execute_result"
    }
   ],
   "source": [
    "result_glc_o2 = model.optimize()\n",
    "result_glc_o2"
   ]
  },
  {
   "cell_type": "markdown",
   "id": "d92fc953",
   "metadata": {},
   "source": [
    "# How can we visualize the results?\n",
    "\n",
    "There is a website (https://escher.github.io/#/) which allows you to plot the flux distributions of FBA models.\n",
    "The flux distribution you wish to visualize needs to be exported in JSON format. \n",
    "\n",
    "For the visualization, we need to choose the `e_coli_core` model, and then `Data -> Load reaction data`, and choose the JSON file we have generated."
   ]
  },
  {
   "cell_type": "code",
   "execution_count": 18,
   "id": "4b3c5ea6",
   "metadata": {},
   "outputs": [],
   "source": [
    "result_glc_o2.fluxes.to_json('simulation_result_glucose.json')"
   ]
  },
  {
   "cell_type": "markdown",
   "id": "82827431",
   "metadata": {},
   "source": [
    "# How can we change the medium?\n",
    "\n",
    "We saw that oxygen was available in our medium. What if we want to analyze the metabolic fluxes under the anaerobic growth condition?"
   ]
  },
  {
   "cell_type": "code",
   "execution_count": 19,
   "id": "92937609",
   "metadata": {},
   "outputs": [
    {
     "data": {
      "text/html": [
       "<strong><em>Optimal</em> solution with objective value 0.212</strong><br><div>\n",
       "<style scoped>\n",
       "    .dataframe tbody tr th:only-of-type {\n",
       "        vertical-align: middle;\n",
       "    }\n",
       "\n",
       "    .dataframe tbody tr th {\n",
       "        vertical-align: top;\n",
       "    }\n",
       "\n",
       "    .dataframe thead th {\n",
       "        text-align: right;\n",
       "    }\n",
       "</style>\n",
       "<table border=\"1\" class=\"dataframe\">\n",
       "  <thead>\n",
       "    <tr style=\"text-align: right;\">\n",
       "      <th></th>\n",
       "      <th>fluxes</th>\n",
       "      <th>reduced_costs</th>\n",
       "    </tr>\n",
       "  </thead>\n",
       "  <tbody>\n",
       "    <tr>\n",
       "      <th>PFK</th>\n",
       "      <td>9.789459</td>\n",
       "      <td>2.602085e-18</td>\n",
       "    </tr>\n",
       "    <tr>\n",
       "      <th>PFL</th>\n",
       "      <td>17.804674</td>\n",
       "      <td>0.000000e+00</td>\n",
       "    </tr>\n",
       "    <tr>\n",
       "      <th>PGI</th>\n",
       "      <td>9.956609</td>\n",
       "      <td>0.000000e+00</td>\n",
       "    </tr>\n",
       "    <tr>\n",
       "      <th>PGK</th>\n",
       "      <td>-19.437336</td>\n",
       "      <td>-0.000000e+00</td>\n",
       "    </tr>\n",
       "    <tr>\n",
       "      <th>PGL</th>\n",
       "      <td>0.000000</td>\n",
       "      <td>0.000000e+00</td>\n",
       "    </tr>\n",
       "    <tr>\n",
       "      <th>...</th>\n",
       "      <td>...</td>\n",
       "      <td>...</td>\n",
       "    </tr>\n",
       "    <tr>\n",
       "      <th>NADH16</th>\n",
       "      <td>0.000000</td>\n",
       "      <td>-5.538015e-03</td>\n",
       "    </tr>\n",
       "    <tr>\n",
       "      <th>NADTRHD</th>\n",
       "      <td>0.000000</td>\n",
       "      <td>-1.107603e-02</td>\n",
       "    </tr>\n",
       "    <tr>\n",
       "      <th>NH4t</th>\n",
       "      <td>1.154156</td>\n",
       "      <td>0.000000e+00</td>\n",
       "    </tr>\n",
       "    <tr>\n",
       "      <th>O2t</th>\n",
       "      <td>0.000000</td>\n",
       "      <td>0.000000e+00</td>\n",
       "    </tr>\n",
       "    <tr>\n",
       "      <th>PDH</th>\n",
       "      <td>0.000000</td>\n",
       "      <td>-2.769008e-03</td>\n",
       "    </tr>\n",
       "  </tbody>\n",
       "</table>\n",
       "<p>95 rows × 2 columns</p>\n",
       "</div>"
      ],
      "text/plain": [
       "<Solution 0.212 at 0x7f675220fb50>"
      ]
     },
     "execution_count": 19,
     "metadata": {},
     "output_type": "execute_result"
    }
   ],
   "source": [
    "medium = model.medium\n",
    "medium['EX_o2_e'] = 0\n",
    "model.medium = medium\n",
    "\n",
    "result_anaerobic = model.optimize()\n",
    "result_anaerobic.fluxes.to_json('simulation_result_anaerobic_glucose.json')\n",
    "result_anaerobic"
   ]
  },
  {
   "cell_type": "markdown",
   "id": "8b61e09b",
   "metadata": {},
   "source": [
    "# Let E. coli grow aerobically on pyruvate!"
   ]
  },
  {
   "cell_type": "code",
   "execution_count": 20,
   "id": "49b38cb3",
   "metadata": {},
   "outputs": [],
   "source": [
    "# try it out yourselves"
   ]
  },
  {
   "cell_type": "markdown",
   "id": "5a97ebdb",
   "metadata": {},
   "source": [
    "# Different growth substrates\n",
    "\n",
    "By adding one metabolite at a time to the `aerobic_medium`, find those which enable the E. coli model to grow with growth rate > 0. Enable the influx of each metabolite to be maximum of 10.\n",
    "Make a pandas dataframe from results containing the ID and name of the carbon source, the growth rate and the oxygen uptake rate. Store only the simulation results for which the solver returns the status `optimal`."
   ]
  },
  {
   "cell_type": "code",
   "execution_count": 16,
   "id": "7b1e1abd",
   "metadata": {},
   "outputs": [
    {
     "name": "stderr",
     "output_type": "stream",
     "text": [
      "/home/ana/.local/lib/python3.10/site-packages/cobra/util/solver.py:554: UserWarning: Solver status is 'infeasible'.\n",
      "  warn(f\"Solver status is '{status}'.\", UserWarning)\n"
     ]
    },
    {
     "data": {
      "text/html": [
       "<div>\n",
       "<style scoped>\n",
       "    .dataframe tbody tr th:only-of-type {\n",
       "        vertical-align: middle;\n",
       "    }\n",
       "\n",
       "    .dataframe tbody tr th {\n",
       "        vertical-align: top;\n",
       "    }\n",
       "\n",
       "    .dataframe thead th {\n",
       "        text-align: right;\n",
       "    }\n",
       "</style>\n",
       "<table border=\"1\" class=\"dataframe\">\n",
       "  <thead>\n",
       "    <tr style=\"text-align: right;\">\n",
       "      <th></th>\n",
       "      <th>Carbon source</th>\n",
       "      <th>Formula</th>\n",
       "      <th>Carbon uptake</th>\n",
       "      <th>Growth rate</th>\n",
       "      <th>Oxygen uptake</th>\n",
       "    </tr>\n",
       "  </thead>\n",
       "  <tbody>\n",
       "    <tr>\n",
       "      <th>4</th>\n",
       "      <td>D-Fructose</td>\n",
       "      <td>C6H12O6</td>\n",
       "      <td>-10.0</td>\n",
       "      <td>0.873922</td>\n",
       "      <td>-21.799493</td>\n",
       "    </tr>\n",
       "    <tr>\n",
       "      <th>6</th>\n",
       "      <td>D-Glucose</td>\n",
       "      <td>C6H12O6</td>\n",
       "      <td>-10.0</td>\n",
       "      <td>0.873922</td>\n",
       "      <td>-21.799493</td>\n",
       "    </tr>\n",
       "    <tr>\n",
       "      <th>8</th>\n",
       "      <td>L-Glutamate</td>\n",
       "      <td>C5H8NO4</td>\n",
       "      <td>-10.0</td>\n",
       "      <td>0.598732</td>\n",
       "      <td>-18.828478</td>\n",
       "    </tr>\n",
       "    <tr>\n",
       "      <th>7</th>\n",
       "      <td>L-Glutamine</td>\n",
       "      <td>C5H10N2O3</td>\n",
       "      <td>-10.0</td>\n",
       "      <td>0.559265</td>\n",
       "      <td>-20.553626</td>\n",
       "    </tr>\n",
       "    <tr>\n",
       "      <th>2</th>\n",
       "      <td>2-Oxoglutarate</td>\n",
       "      <td>C5H4O5</td>\n",
       "      <td>-10.0</td>\n",
       "      <td>0.528755</td>\n",
       "      <td>-16.887255</td>\n",
       "    </tr>\n",
       "    <tr>\n",
       "      <th>12</th>\n",
       "      <td>Succinate</td>\n",
       "      <td>C4H4O4</td>\n",
       "      <td>-10.0</td>\n",
       "      <td>0.397563</td>\n",
       "      <td>-17.621884</td>\n",
       "    </tr>\n",
       "    <tr>\n",
       "      <th>5</th>\n",
       "      <td>Fumarate</td>\n",
       "      <td>C4H2O4</td>\n",
       "      <td>-10.0</td>\n",
       "      <td>0.370741</td>\n",
       "      <td>-13.794339</td>\n",
       "    </tr>\n",
       "    <tr>\n",
       "      <th>10</th>\n",
       "      <td>L-Malate</td>\n",
       "      <td>C4H4O5</td>\n",
       "      <td>-10.0</td>\n",
       "      <td>0.370741</td>\n",
       "      <td>-13.794339</td>\n",
       "    </tr>\n",
       "    <tr>\n",
       "      <th>9</th>\n",
       "      <td>D-Lactate</td>\n",
       "      <td>C3H5O3</td>\n",
       "      <td>-10.0</td>\n",
       "      <td>0.350311</td>\n",
       "      <td>-14.687340</td>\n",
       "    </tr>\n",
       "    <tr>\n",
       "      <th>3</th>\n",
       "      <td>Ethanol</td>\n",
       "      <td>C2H6O</td>\n",
       "      <td>-10.0</td>\n",
       "      <td>0.330420</td>\n",
       "      <td>-15.556822</td>\n",
       "    </tr>\n",
       "    <tr>\n",
       "      <th>11</th>\n",
       "      <td>Pyruvate</td>\n",
       "      <td>C3H3O3</td>\n",
       "      <td>-10.0</td>\n",
       "      <td>0.291225</td>\n",
       "      <td>-12.270099</td>\n",
       "    </tr>\n",
       "    <tr>\n",
       "      <th>1</th>\n",
       "      <td>Acetaldehyde</td>\n",
       "      <td>C2H4O</td>\n",
       "      <td>-10.0</td>\n",
       "      <td>0.284278</td>\n",
       "      <td>-12.573744</td>\n",
       "    </tr>\n",
       "    <tr>\n",
       "      <th>0</th>\n",
       "      <td>Acetate</td>\n",
       "      <td>C2H3O2</td>\n",
       "      <td>-10.0</td>\n",
       "      <td>0.173339</td>\n",
       "      <td>-12.423093</td>\n",
       "    </tr>\n",
       "  </tbody>\n",
       "</table>\n",
       "</div>"
      ],
      "text/plain": [
       "     Carbon source    Formula  Carbon uptake  Growth rate  Oxygen uptake\n",
       "4       D-Fructose    C6H12O6          -10.0     0.873922     -21.799493\n",
       "6        D-Glucose    C6H12O6          -10.0     0.873922     -21.799493\n",
       "8      L-Glutamate    C5H8NO4          -10.0     0.598732     -18.828478\n",
       "7      L-Glutamine  C5H10N2O3          -10.0     0.559265     -20.553626\n",
       "2   2-Oxoglutarate     C5H4O5          -10.0     0.528755     -16.887255\n",
       "12       Succinate     C4H4O4          -10.0     0.397563     -17.621884\n",
       "5         Fumarate     C4H2O4          -10.0     0.370741     -13.794339\n",
       "10        L-Malate     C4H4O5          -10.0     0.370741     -13.794339\n",
       "9        D-Lactate     C3H5O3          -10.0     0.350311     -14.687340\n",
       "3          Ethanol      C2H6O          -10.0     0.330420     -15.556822\n",
       "11        Pyruvate     C3H3O3          -10.0     0.291225     -12.270099\n",
       "1     Acetaldehyde      C2H4O          -10.0     0.284278     -12.573744\n",
       "0          Acetate     C2H3O2          -10.0     0.173339     -12.423093"
      ]
     },
     "execution_count": 16,
     "metadata": {},
     "output_type": "execute_result"
    }
   ],
   "source": [
    "aerobic_medium = {'EX_co2_e': 1000.0,\n",
    "                 'EX_h_e': 1000.0,\n",
    "                 'EX_h2o_e': 1000.0,\n",
    "                 'EX_nh4_e': 1000.0,\n",
    "                 'EX_o2_e': 1000.0,\n",
    "                 'EX_pi_e': 1000.0}\n",
    "\n",
    "simulation_df = pd.DataFrame(columns=('Carbon source', 'Formula', 'Carbon uptake', 'Growth rate', 'Oxygen uptake'))\n",
    "\n",
    "def get_carbon_count(chemical_formula):\n",
    "    num = chemical_formula[1]\n",
    "    if num.isdigit():\n",
    "        return int(num)\n",
    "    else:\n",
    "        return 1\n",
    "        \n",
    "\n",
    "for ex_reac in model.exchanges:\n",
    "    if ex_reac.id in aerobic_medium:\n",
    "        continue\n",
    "    cc = get_carbon_count(ex_reac.reactants[0].formula)\n",
    "    # adding to the medium\n",
    "    aerobic_medium[ex_reac.id] = 10\n",
    "    model.medium = aerobic_medium\n",
    "    # simulating\n",
    "    tmp_result = model.optimize()\n",
    "    if tmp_result.status == 'infeasible':\n",
    "        aerobic_medium.pop(ex_reac.id)\n",
    "        continue\n",
    "    \n",
    "    # storing the results\n",
    "    simulation_df = simulation_df.append(pd.Series([ex_reac.reactants[0].name,\n",
    "                                    ex_reac.reactants[0].formula,                \n",
    "                                   tmp_result.fluxes[ex_reac.id],\n",
    "                                   tmp_result.objective_value,\n",
    "                                   tmp_result.fluxes['EX_o2_e']],\n",
    "                                   index=simulation_df.columns),\n",
    "                         ignore_index=True)\n",
    "    # removing from the medium\n",
    "    aerobic_medium.pop(ex_reac.id)\n",
    "\n",
    "simulation_df.sort_values('Growth rate', ascending=False)\n",
    "    "
   ]
  },
  {
   "cell_type": "markdown",
   "id": "75457446",
   "metadata": {},
   "source": [
    "## Growth rates for different carbon substrates\n",
    "\n",
    "Here we provide the experimentally measured data for the growth on different  carbon substrates.\n",
    "Use the defined carbon uptake to constrain the FBA model and compare the  obtained growth rate to the experimentally determined one.\n",
    "\n",
    "The source of data: https://bionumbers.hms.harvard.edu/files/Growth%20parameters%20of%20E.%20coli%20growing%20on%20different%20carbon%20sources.pdf"
   ]
  },
  {
   "cell_type": "code",
   "execution_count": 21,
   "id": "f56fcc91",
   "metadata": {},
   "outputs": [
    {
     "data": {
      "text/html": [
       "<div>\n",
       "<style scoped>\n",
       "    .dataframe tbody tr th:only-of-type {\n",
       "        vertical-align: middle;\n",
       "    }\n",
       "\n",
       "    .dataframe tbody tr th {\n",
       "        vertical-align: top;\n",
       "    }\n",
       "\n",
       "    .dataframe thead th {\n",
       "        text-align: right;\n",
       "    }\n",
       "</style>\n",
       "<table border=\"1\" class=\"dataframe\">\n",
       "  <thead>\n",
       "    <tr style=\"text-align: right;\">\n",
       "      <th></th>\n",
       "      <th>Carbon source</th>\n",
       "      <th>Carbon number</th>\n",
       "      <th>Growth rate</th>\n",
       "      <th>Yield on carbon</th>\n",
       "      <th>Oxygen uptake</th>\n",
       "      <th>Carbon uptake</th>\n",
       "      <th>Carbon uptake (unscaled)</th>\n",
       "    </tr>\n",
       "  </thead>\n",
       "  <tbody>\n",
       "    <tr>\n",
       "      <th>EX_glc__D_e</th>\n",
       "      <td>D-Glucose</td>\n",
       "      <td>6</td>\n",
       "      <td>0.89</td>\n",
       "      <td>11.8</td>\n",
       "      <td>19.8</td>\n",
       "      <td>12.570621</td>\n",
       "      <td>75.423729</td>\n",
       "    </tr>\n",
       "    <tr>\n",
       "      <th>EX_pyr_e</th>\n",
       "      <td>Pyruvate</td>\n",
       "      <td>3</td>\n",
       "      <td>0.48</td>\n",
       "      <td>4.9</td>\n",
       "      <td>29.9</td>\n",
       "      <td>32.653061</td>\n",
       "      <td>97.959184</td>\n",
       "    </tr>\n",
       "    <tr>\n",
       "      <th>EX_lac__D_e</th>\n",
       "      <td>D-Lactate</td>\n",
       "      <td>3</td>\n",
       "      <td>0.52</td>\n",
       "      <td>7.8</td>\n",
       "      <td>32.2</td>\n",
       "      <td>22.222222</td>\n",
       "      <td>66.666667</td>\n",
       "    </tr>\n",
       "    <tr>\n",
       "      <th>EX_ac_e</th>\n",
       "      <td>Acetate</td>\n",
       "      <td>2</td>\n",
       "      <td>0.30</td>\n",
       "      <td>11.7</td>\n",
       "      <td>18.0</td>\n",
       "      <td>12.820513</td>\n",
       "      <td>25.641026</td>\n",
       "    </tr>\n",
       "    <tr>\n",
       "      <th>EX_succ_e</th>\n",
       "      <td>Succinate</td>\n",
       "      <td>4</td>\n",
       "      <td>0.36</td>\n",
       "      <td>9.5</td>\n",
       "      <td>23.1</td>\n",
       "      <td>9.473684</td>\n",
       "      <td>37.894737</td>\n",
       "    </tr>\n",
       "    <tr>\n",
       "      <th>EX_fum_e</th>\n",
       "      <td>Fumarate</td>\n",
       "      <td>4</td>\n",
       "      <td>0.36</td>\n",
       "      <td>7.2</td>\n",
       "      <td>17.1</td>\n",
       "      <td>12.500000</td>\n",
       "      <td>50.000000</td>\n",
       "    </tr>\n",
       "  </tbody>\n",
       "</table>\n",
       "</div>"
      ],
      "text/plain": [
       "            Carbon source  Carbon number  Growth rate  Yield on carbon  \\\n",
       "EX_glc__D_e     D-Glucose              6         0.89             11.8   \n",
       "EX_pyr_e         Pyruvate              3         0.48              4.9   \n",
       "EX_lac__D_e     D-Lactate              3         0.52              7.8   \n",
       "EX_ac_e           Acetate              2         0.30             11.7   \n",
       "EX_succ_e       Succinate              4         0.36              9.5   \n",
       "EX_fum_e         Fumarate              4         0.36              7.2   \n",
       "\n",
       "             Oxygen uptake  Carbon uptake  Carbon uptake (unscaled)  \n",
       "EX_glc__D_e           19.8      12.570621                 75.423729  \n",
       "EX_pyr_e              29.9      32.653061                 97.959184  \n",
       "EX_lac__D_e           32.2      22.222222                 66.666667  \n",
       "EX_ac_e               18.0      12.820513                 25.641026  \n",
       "EX_succ_e             23.1       9.473684                 37.894737  \n",
       "EX_fum_e              17.1      12.500000                 50.000000  "
      ]
     },
     "execution_count": 21,
     "metadata": {},
     "output_type": "execute_result"
    }
   ],
   "source": [
    "carbon_source_exp_df=pd.DataFrame()\n",
    "carbon_source_exp_df['Carbon source']=['D-Glucose','Pyruvate','D-Lactate','Acetate','Succinate','Fumarate']\n",
    "carbon_source_exp_df['Carbon number']=[6,3,3,2,4,4]\n",
    "carbon_source_exp_df['Growth rate']=[0.89,0.48,0.52,0.3,0.36,0.36,]\n",
    "carbon_source_exp_df['Yield on carbon']=[11.8,4.9,7.8,11.7,9.5,7.2]\n",
    "carbon_source_exp_df['Oxygen uptake']=[19.8,29.9,32.2,18,23.1,17.1]\n",
    "carbon_source_exp_df['Carbon uptake']=1000*carbon_source_exp_df['Growth rate']/(carbon_source_exp_df['Carbon number']*carbon_source_exp_df['Yield on carbon'])\n",
    "carbon_source_exp_df['Carbon uptake (unscaled)']=1000*carbon_source_exp_df['Growth rate']/(carbon_source_exp_df['Yield on carbon'])\n",
    "carbon_source_exp_df.index=['EX_glc__D_e','EX_pyr_e','EX_lac__D_e','EX_ac_e','EX_succ_e','EX_fum_e']\n",
    "carbon_source_exp_df"
   ]
  },
  {
   "cell_type": "code",
   "execution_count": 18,
   "id": "86fd98b6",
   "metadata": {},
   "outputs": [],
   "source": [
    "aerobic_medium = {'EX_co2_e': 1000.0,\n",
    "                 'EX_h_e': 1000.0,\n",
    "                 'EX_h2o_e': 1000.0,\n",
    "                 'EX_nh4_e': 1000.0,\n",
    "                 'EX_o2_e': 1000.0,\n",
    "                 'EX_pi_e': 1000.0}\n",
    "\n",
    "for ex_reac in carbon_source_exp_df.index:\n",
    "    if ex_reac in aerobic_medium:\n",
    "        continue\n",
    "    # adding to the medium\n",
    "    aerobic_medium[ex_reac] = -carbon_source_exp_df.loc[ex_reac,'Carbon uptake']\n",
    "    model.medium = aerobic_medium\n",
    "    # simulating\n",
    "    tmp_result = model.optimize()\n",
    "    if tmp_result.status == 'infeasible':\n",
    "        aerobic_medium.pop(ex_reac)\n",
    "        continue\n",
    "    \n",
    "    # storing the results\n",
    "    carbon_source_exp_df.loc[ex_reac,'Growth rate (sim)']=tmp_result.objective_value\n",
    "    carbon_source_exp_df.loc[ex_reac,'Oxygen uptake (sim)']=-tmp_result.fluxes['EX_o2_e']\n",
    "    aerobic_medium.pop(ex_reac)\n"
   ]
  },
  {
   "cell_type": "code",
   "execution_count": 43,
   "id": "dccf8d68",
   "metadata": {},
   "outputs": [
    {
     "data": {
      "image/png": "[encoded data removed]",
      "text/plain": [
       "<Figure size 504x504 with 1 Axes>"
      ]
     },
     "metadata": {
      "needs_background": "light"
     },
     "output_type": "display_data"
    }
   ],
   "source": [
    "import matplotlib.pyplot as plt\n",
    "# simulation_df.plot.scatter(x='Oxygen uptake', y='Growth rate')\n",
    "\n",
    "growth_rate_simulated_originally=[]\n",
    "for ex_reac in carbon_source_exp_df.index:\n",
    "    species=carbon_source_exp_df.loc[ex_reac,'Carbon source']\n",
    "    growth_rate_simulated_originally.append(simulation_df.loc[simulation_df['Carbon source']==species,'Growth rate'].values[0])\n",
    "\n",
    "fig = plt.figure(figsize=(7,7))\n",
    "plt.plot([0, 1.2], [0, 1.2],'--', color='orange')\n",
    "plt.scatter(carbon_source_exp_df['Growth rate'],growth_rate_simulated_originally,color='blue',label='Sim')\n",
    "plt.scatter(carbon_source_exp_df['Growth rate'],carbon_source_exp_df['Growth rate (sim)'],color='red',label='Sim+Exp')\n",
    "plt.legend()\n",
    "for i, txt in enumerate(carbon_source_exp_df['Carbon source']):\n",
    "    plt.annotate(txt, (list(carbon_source_exp_df['Growth rate'])[i], \n",
    "                       list(carbon_source_exp_df['Growth rate (sim)'])[i]),color='red')\n",
    "    plt.annotate(txt, (list(carbon_source_exp_df['Growth rate'])[i], \n",
    "                       growth_rate_simulated_originally[i]),color='blue')\n",
    "plt.xlabel('Growth rate (measured)')\n",
    "plt.ylabel('Growth rate (predicted)')\n",
    "plt.xlim([0, 1.2])\n",
    "plt.ylim([0, 1.2])\n",
    "plt.title('Growth rates at different carbon sources')\n",
    "plt.show()"
   ]
  },
  {
   "cell_type": "markdown",
   "id": "38f93287",
   "metadata": {},
   "source": [
    "## Gene and reaction knockouts\n",
    "\n",
    "Let's first knock-out individually the enolase and phophoglycarate mutase (lower glycolysis). What is the growth rate for the two knock-outs? \n",
    "The `with model:` environment serves to have the knock-outs isolated, and after the `with` environment the model is restored to its original state."
   ]
  },
  {
   "cell_type": "code",
   "execution_count": 20,
   "id": "1e00e754",
   "metadata": {},
   "outputs": [
    {
     "name": "stdout",
     "output_type": "stream",
     "text": [
      "Complete model (glucose, aerobic): <Solution 0.874 at 0x7fd30bdf3df0>\n"
     ]
    }
   ],
   "source": [
    "# Let's return the medium to glucose aerobic\n",
    "aerobic_medium['EX_glc__D_e'] = 10\n",
    "model.medium = aerobic_medium\n",
    "\n",
    "print('Complete model (glucose, aerobic):', model.optimize())"
   ]
  },
  {
   "cell_type": "code",
   "execution_count": 21,
   "id": "2800a680",
   "metadata": {},
   "outputs": [
    {
     "name": "stdout",
     "output_type": "stream",
     "text": [
      "ENO knock-out: <Solution 0.000 at 0x7fd30bdf3e80>\n",
      "PGI knock-out: <Solution 0.863 at 0x7fd30bdf3e80>\n"
     ]
    }
   ],
   "source": [
    "with model:\n",
    "    model.reactions.ENO.knock_out()\n",
    "    print('ENO knock-out:', model.optimize())\n",
    "    \n",
    "with model:\n",
    "    model.reactions.PGI.knock_out()\n",
    "    print('PGI knock-out:', model.optimize())"
   ]
  },
  {
   "cell_type": "code",
   "execution_count": 22,
   "id": "4323c12d",
   "metadata": {},
   "outputs": [],
   "source": [
    "from cobra.flux_analysis import (\n",
    "    single_gene_deletion, single_reaction_deletion, double_gene_deletion,\n",
    "    double_reaction_deletion)"
   ]
  },
  {
   "cell_type": "code",
   "execution_count": 23,
   "id": "0ee5b3ad",
   "metadata": {},
   "outputs": [
    {
     "name": "stdout",
     "output_type": "stream",
     "text": [
      "Knock-out: <Solution 0.212 at 0x7fd30bdf3250>\n",
      "Gene knock-out <Solution 0.863 at 0x7fd30bdf3820> optimal\n"
     ]
    }
   ],
   "source": [
    "with model:\n",
    "    model.reactions.NADH16.knock_out()\n",
    "    print('Knock-out:', model.optimize())\n",
    "    \n",
    "with model:\n",
    "    model.genes.b4025.knock_out()\n",
    "    result = model.optimize()\n",
    "    print('Gene knock-out', result, result.status)"
   ]
  },
  {
   "cell_type": "markdown",
   "id": "cae2c44d",
   "metadata": {},
   "source": [
    "# Tasks\n",
    "\n",
    "## Growth rates at different glucose uptake rates\n",
    "\n",
    "Here we give you experimental data from https://bionumbers.hms.harvard.edu/files/Biomass%20formation%20rate%20and%20the%20specific%20rates%20of%20glucose%20uptake,%20carbon%20dioxide%20evolution,%20oxygen%20uptake,%20acetate%20formation%20and%20ammonium%20uptake%20during%20steady-state%20growth.pdf\n",
    "\n",
    "Simulate the same conditions by limiting the glucose flux, and then by limiting both the glucose and oxygen fluxes to measured values.\n",
    "\n",
    "Compare the experimentally determined and predicted growth rates. Store results in Pandas dataframe and plot."
   ]
  },
  {
   "cell_type": "code",
   "execution_count": 1,
   "id": "33821db4",
   "metadata": {},
   "outputs": [],
   "source": [
    "glc_MW = 180.156 # g / mol\n",
    "o2_MW = 32 # g / mol \n",
    "\n",
    "# experimental data\n",
    "exp_growth_rate = [0.044,0.066,0.134,0.15,0.17,0.203,0.265,0.28,0.3,0.347,0.375,0.388,0.397]\n",
    "glc_uptake_rate= [i/glc_MW*1000 for i in [0.087,0.131,0.253,0.287,0.325,0.375,0.502,0.506,0.542,0.605,0.64,0.643,0.723]]\n",
    "o2_uptake_rate= [-i/o2_MW*1000 for i in [0.0437,0.057,0.1089,0.1175,0.1713,0.1757,0.1978,0.2216,0.2372,0.2421,0.2415,0.2438,0.2633]]\n",
    "\n",
    "assert(len(exp_growth_rate) == len(glc_uptake_rate) and len(exp_growth_rate) == len(o2_uptake_rate))"
   ]
  },
  {
   "cell_type": "code",
   "execution_count": 3,
   "id": "4efb843b",
   "metadata": {},
   "outputs": [],
   "source": [
    "# here be your solution"
   ]
  },
  {
   "cell_type": "markdown",
   "id": "63454467",
   "metadata": {},
   "source": [
    "## Single gene deletions\n",
    "\n",
    "Find essential genes for aerobic and anaerobic growth on glucose. Which metabolic function do they encode for? Do they overlap?"
   ]
  },
  {
   "cell_type": "code",
   "execution_count": 4,
   "id": "cb317645",
   "metadata": {},
   "outputs": [],
   "source": [
    "# here be your solution"
   ]
  }
 ],
 "metadata": {
  "kernelspec": {
   "display_name": "Python 3 (ipykernel)",
   "language": "python",
   "name": "python3"
  },
  "language_info": {
   "codemirror_mode": {
    "name": "ipython",
    "version": 3
   },
   "file_extension": ".py",
   "mimetype": "text/x-python",
   "name": "python",
   "nbconvert_exporter": "python",
   "pygments_lexer": "ipython3",
   "version": "3.10.6"
  }
 },
 "nbformat": 4,
 "nbformat_minor": 5
}
